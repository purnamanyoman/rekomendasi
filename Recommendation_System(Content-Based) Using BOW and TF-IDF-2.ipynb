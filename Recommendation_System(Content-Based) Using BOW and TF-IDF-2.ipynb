{
 "cells": [
  {
   "cell_type": "code",
   "execution_count": 1,
   "metadata": {},
   "outputs": [
    {
     "name": "stdout",
     "output_type": "stream",
     "text": [
      "Requirement already satisfied: seaborn in /srv/conda/envs/notebook/lib/python3.7/site-packages (0.11.2)\n",
      "Requirement already satisfied: numpy>=1.15 in /srv/conda/envs/notebook/lib/python3.7/site-packages (from seaborn) (1.21.2)\n",
      "Requirement already satisfied: scipy>=1.0 in /srv/conda/envs/notebook/lib/python3.7/site-packages (from seaborn) (1.7.1)\n",
      "Requirement already satisfied: pandas>=0.23 in /srv/conda/envs/notebook/lib/python3.7/site-packages (from seaborn) (1.3.2)\n",
      "Requirement already satisfied: matplotlib>=2.2 in /srv/conda/envs/notebook/lib/python3.7/site-packages (from seaborn) (3.4.3)\n",
      "Requirement already satisfied: cycler>=0.10 in /srv/conda/envs/notebook/lib/python3.7/site-packages (from matplotlib>=2.2->seaborn) (0.10.0)\n",
      "Requirement already satisfied: pillow>=6.2.0 in /srv/conda/envs/notebook/lib/python3.7/site-packages (from matplotlib>=2.2->seaborn) (8.3.1)\n",
      "Requirement already satisfied: pyparsing>=2.2.1 in /srv/conda/envs/notebook/lib/python3.7/site-packages (from matplotlib>=2.2->seaborn) (2.4.7)\n",
      "Requirement already satisfied: kiwisolver>=1.0.1 in /srv/conda/envs/notebook/lib/python3.7/site-packages (from matplotlib>=2.2->seaborn) (1.3.1)\n",
      "Requirement already satisfied: python-dateutil>=2.7 in /srv/conda/envs/notebook/lib/python3.7/site-packages (from matplotlib>=2.2->seaborn) (2.8.1)\n",
      "Requirement already satisfied: six in /srv/conda/envs/notebook/lib/python3.7/site-packages (from cycler>=0.10->matplotlib>=2.2->seaborn) (1.15.0)\n",
      "Requirement already satisfied: pytz>=2017.3 in /srv/conda/envs/notebook/lib/python3.7/site-packages (from pandas>=0.23->seaborn) (2021.1)\n",
      "Note: you may need to restart the kernel to use updated packages.\n"
     ]
    }
   ],
   "source": [
    "pip install seaborn"
   ]
  },
  {
   "cell_type": "code",
   "execution_count": 2,
   "metadata": {},
   "outputs": [
    {
     "name": "stdout",
     "output_type": "stream",
     "text": [
      "Requirement already satisfied: nltk in /srv/conda/envs/notebook/lib/python3.7/site-packages (3.6.2)\n",
      "Requirement already satisfied: joblib in /srv/conda/envs/notebook/lib/python3.7/site-packages (from nltk) (1.0.1)\n",
      "Requirement already satisfied: regex in /srv/conda/envs/notebook/lib/python3.7/site-packages (from nltk) (2021.8.21)\n",
      "Requirement already satisfied: click in /srv/conda/envs/notebook/lib/python3.7/site-packages (from nltk) (8.0.1)\n",
      "Requirement already satisfied: tqdm in /srv/conda/envs/notebook/lib/python3.7/site-packages (from nltk) (4.62.2)\n",
      "Requirement already satisfied: importlib-metadata in /srv/conda/envs/notebook/lib/python3.7/site-packages (from click->nltk) (3.7.0)\n",
      "Requirement already satisfied: zipp>=0.5 in /srv/conda/envs/notebook/lib/python3.7/site-packages (from importlib-metadata->click->nltk) (3.4.0)\n",
      "Requirement already satisfied: typing-extensions>=3.6.4 in /srv/conda/envs/notebook/lib/python3.7/site-packages (from importlib-metadata->click->nltk) (3.7.4.3)\n",
      "Note: you may need to restart the kernel to use updated packages.\n"
     ]
    }
   ],
   "source": [
    "pip install nltk"
   ]
  },
  {
   "cell_type": "code",
   "execution_count": 3,
   "metadata": {},
   "outputs": [
    {
     "name": "stdout",
     "output_type": "stream",
     "text": [
      "Requirement already satisfied: sklearn in /srv/conda/envs/notebook/lib/python3.7/site-packages (0.0)\n",
      "Requirement already satisfied: scikit-learn in /srv/conda/envs/notebook/lib/python3.7/site-packages (from sklearn) (0.24.2)\n",
      "Requirement already satisfied: joblib>=0.11 in /srv/conda/envs/notebook/lib/python3.7/site-packages (from scikit-learn->sklearn) (1.0.1)\n",
      "Requirement already satisfied: scipy>=0.19.1 in /srv/conda/envs/notebook/lib/python3.7/site-packages (from scikit-learn->sklearn) (1.7.1)\n",
      "Requirement already satisfied: threadpoolctl>=2.0.0 in /srv/conda/envs/notebook/lib/python3.7/site-packages (from scikit-learn->sklearn) (2.2.0)\n",
      "Requirement already satisfied: numpy>=1.13.3 in /srv/conda/envs/notebook/lib/python3.7/site-packages (from scikit-learn->sklearn) (1.21.2)\n",
      "Note: you may need to restart the kernel to use updated packages.\n"
     ]
    }
   ],
   "source": [
    "pip install sklearn"
   ]
  },
  {
   "cell_type": "markdown",
   "metadata": {},
   "source": [
    "CONTENT-BASED RECOMENDATION SYSTEM USING BOW AND TF_IDF MODELS"
   ]
  },
  {
   "cell_type": "code",
   "execution_count": 11,
   "metadata": {},
   "outputs": [],
   "source": [
    "import warnings\n",
    "import requests\n",
    "from Utils import *\n",
    "import pandas as pd\n",
    "from collections import Counter \n",
    "from BagOfWordsModel import BagOfWordsModel\n",
    "from TFIDFModel import TFIDFModel"
   ]
  },
  {
   "cell_type": "code",
   "execution_count": 12,
   "metadata": {},
   "outputs": [],
   "source": [
    "def Get_And_Visualize_Data():\n",
    "    data_set = pd.read_json('2pyij-qh9lc.json')\n",
    "    print(\" No. of Products (or data points) : \",data_set.shape[0],\"\\n No. of features: \",data_set.shape[1])\n",
    "    print(data_set.columns) # total features \n",
    "    # Features we are gonna use :\n",
    "    # brand,color,product_type_name,medium image url,title,formatted_price\n",
    "    data_set = data_set[['nama_villa','jumlah_bedroom','villa_deskripsi','lokasi','image_villa-src','location_deskripsi','bedrooms_deskripsi']]\n",
    "    # ASIN - Amazon consumer API--as an associate--asin(Amazon Standard Identification No.) - ID / primary key\n",
    "    return data_set"
   ]
  },
  {
   "cell_type": "code",
   "execution_count": 13,
   "metadata": {},
   "outputs": [
    {
     "name": "stdout",
     "output_type": "stream",
     "text": [
      " No. of Products (or data points) :  827 \n",
      " No. of features:  14\n",
      "Index(['web-scraper-order', 'web-scraper-start-url', 'villa-link',\n",
      "       'villa-link-href', 'nama_villa', 'jumlah_bedroom', 'villa_deskripsi',\n",
      "       'bedrooms_deskripsi', 'outdoor_deskripsi', 'indoor_deskripsi',\n",
      "       'more_deskripsi', 'location_deskripsi', 'lokasi', 'image_villa-src'],\n",
      "      dtype='object')\n"
     ]
    }
   ],
   "source": [
    "data_set=Get_And_Visualize_Data()"
   ]
  },
  {
   "cell_type": "code",
   "execution_count": 14,
   "metadata": {},
   "outputs": [],
   "source": [
    "def ExploratoryDataAnalysis(data_set):\n",
    "    data_set.head()\n",
    "    for feature in data_set.columns:\n",
    "        print(\"\\n\\n\\nSTATISTICS FOR FEATURE : \",feature.upper())\n",
    "        print(\"\\nDescription for Feature : \\n\")\n",
    "        print(data_set[feature].describe())\n",
    "        print(\"\\nCount/Frequency for Feature : \\n\")\n",
    "        data_set['nama_villa'].unique()\n",
    "        print(Counter(list(data_set[feature])).most_common(10))"
   ]
  },
  {
   "cell_type": "code",
   "execution_count": 15,
   "metadata": {},
   "outputs": [
    {
     "name": "stdout",
     "output_type": "stream",
     "text": [
      "\n",
      "\n",
      "\n",
      "STATISTICS FOR FEATURE :  NAMA_VILLA\n",
      "\n",
      "Description for Feature : \n",
      "\n",
      "count                  827\n",
      "unique                 823\n",
      "top       Villa Yudhistira\n",
      "freq                     2\n",
      "Name: nama_villa, dtype: object\n",
      "\n",
      "Count/Frequency for Feature : \n",
      "\n",
      "[('Villa Cantik', 2), ('Villa Matahari', 2), ('Villa Jasmine', 2), ('Villa Yudhistira', 2), ('Sungai Jungle Villa I', 1), ('Morabito Art Cliff', 1), ('Villa Vinila Penthouse', 1), ('Villa Sally', 1), ('Villa Ibiza', 1), ('Villa Jeruk 1', 1)]\n",
      "\n",
      "\n",
      "\n",
      "STATISTICS FOR FEATURE :  JUMLAH_BEDROOM\n",
      "\n",
      "Description for Feature : \n",
      "\n",
      "count            827\n",
      "unique            15\n",
      "top       3 bedrooms\n",
      "freq             211\n",
      "Name: jumlah_bedroom, dtype: object\n",
      "\n",
      "Count/Frequency for Feature : \n",
      "\n",
      "[('3 bedrooms', 211), ('4 bedrooms', 188), ('5 bedrooms', 122), ('2 bedrooms', 104), ('1 bedroom', 73), ('6 bedrooms', 53), ('7 bedrooms', 29), ('8 bedrooms', 16), ('9 bedrooms', 11), ('10 bedrooms', 7)]\n",
      "\n",
      "\n",
      "\n",
      "STATISTICS FOR FEATURE :  VILLA_DESKRIPSI\n",
      "\n",
      "Description for Feature : \n",
      "\n",
      "count      827\n",
      "unique     826\n",
      "top       null\n",
      "freq         2\n",
      "Name: villa_deskripsi, dtype: object\n",
      "\n",
      "Count/Frequency for Feature : \n",
      "\n",
      "[('null', 2), ('A place like Sungai Jungle Villa I is not something that you should just admire from the pictures and the reviews; a place like Sungai Jungle Villa I is something that you must experience for yourself. This hidden luxurious gem is tucked amidst a traditional village in Canggu Bali, perfectly situating itself as a tropical haven for families and friends who want to retreat from the fast-paced city life. Built with luxurious amenities and your utmost satisfaction in mind, this villa will leave you astounded with the rejuvenation and serenity that nature can provide. This villa will surely satisfy all your senses, and jive them with the beauty of nature.', 1), ('“Wow” is the best word to describe what everyone thinks when entering the compound of this epic luxury villa by the famous French designers Pascal Morabito. Morabito Art Cliff is amazingly built inside a limestone cliff at Bingin Beach in the far south of Bali Island and this stunningly beautiful holiday estate, is home to 5 magnificent lofts inspired by Manhattan, Capri, Miami, Cartagena and Santorini. The concept and the designs of these lofts are unique and unbelievably enchanting topped off with mesmerizing ocean views. The estate is designed by Pascal Morabito himself and it is an amazing piece of art, indeed! In total, there are 9 deluxe bedrooms found inside Morabito Art Cliff, making it also an epic venue for weddings and events.', 1), ('The penthouse suite with 4 bedrooms at Villa Vinila makes an extraordinary stay in Bali’s gorgeous resort area Nusa Dua. Just 5 minutes (Walking distance!) from the beach, a fabulous private swimming pool and modern furnishings, this holiday retreat is ideal for a big family or 2 befriended families on holiday to The Island of the Gods. Elegant and opulent, you get to enjoy maximum privacy and outstanding services by a professional team of staff.', 1), ('Villa Sally is a luxury retreat nestled in a quiet area of Canggu, near to Berawa beach and upcoming places such as Finns beach club. This gorgeous 4 bedroom villa features a perfect blend of traditional and minimalistic elements with natural interior designs enriched by intriguing tribal artefacts. The rice paddy view from the spacious garden is breathtaking and the only sounds you will hear are those of the wind blowing through the palm trees and the fountains, cascading water into the ponds. The 4 comfortable bedrooms and a stylish cinema room complete Villa Sally. A dream come true for all families indeed!', 1), ('Villa Ibiza is a beautiful 3-bedroom luxury villa, tropical as can be and located right in the heart of Seminyak. Within walking distance of the villa, you will find tons of shops, spas, cafes, restaurants, and beach bars. Blending Balinese elements with a whole lot of French flair and elegance, Villa Ibiza is absolutely stunning, designed and decorated by the owner herself. It is a real ‘home’ - a home away from home on the island of Bali, created with lots of love. From the custom-designed furniture to the hand-picked artwork from around the archipelago, Villa Ibiza is a great find hidden away from the crowds in the centre of fashionable Seminyak. However, please be informed that there is construction going on next to the villa until further notice. We apologize for any inconvenience this may have caused.', 1), ('Tucked away in a quiet lane in the peaceful area of Umalas surrounded by lush green rice fields, you will find Villa Jeruk 1. This unique and absolutely charming 2-bedroom holiday retreat is dominated by warm yellow and serene blue colors along with a natural wooden interior design, modern comforts and a large green garden. This is a beautiful tropical paradise located close to the beach and also close to the hustling and bustling center of Seminyak.', 1), ('It is not every day you plan a tropical vacation in the middle of rice fields and the ocean surrounding you, thus, Villa Bendega Rato, which is a three-four-bedroom villa privately situated as part of Bendega Villas in Canggu, would be the ideal choice. Excelling at spacious living and dining areas, expansive lawns, and splendid panoramic views that sweep across luscious vegetation and azure blue ocean, the villa is best suited for families and couples. Designed with a mix of Asian and oriental décor alongside modern amenities such as surround sound, 55-inch TV, Apple TV, and blu-ray, the villa offers something for everyone and ensures a pleasant experience!', 1), ('Two uniquely designed, stunning luxury villas: Villa Anam-Ba and Anam-Bo, merged into one amazing holiday haven with a hot location in the center of Seminyak. Welcome to Villa Anam, a 10-bedroom villa with luxurious facilities for the ultimate holiday on Bali island. Think 2 swimming pools, gym, garden bar & BBQ, rooftop yoga deck and a cinema room. The perfect getaway for large families or groups of friends wanting to stay somewhere amazing in walking distance of the beach, cafés, shops, spas and restaurants.', 1), (\"Villa Zensa is an secluded 2-bedroom holiday home with a perfect mixture of modern facilities and tropical charm, located in a spacious villa complex called 'The Residence' in the centre of Seminyak and in walking distance to the beach. This tastefully appointed two bedroom villa is perfect for a small family wanting to stay in the heart of the islands most happening and sophisticated cosmopolitan district, near to vibrant and colourful streets that offer an abundance of restaurants, shops, café's and night clubs. The villa can also be rented as an intimate 1-bedroom villa for couples on a romantic getaway on the island of the Gods.\", 1)]\n",
      "\n",
      "\n",
      "\n",
      "STATISTICS FOR FEATURE :  LOKASI\n",
      "\n",
      "Description for Feature : \n",
      "\n",
      "count          827\n",
      "unique          30\n",
      "top       Seminyak\n",
      "freq           268\n",
      "Name: lokasi, dtype: object\n",
      "\n",
      "Count/Frequency for Feature : \n",
      "\n",
      "[('Seminyak', 268), ('Canggu', 182), ('Uluwatu', 69), ('Ubud & surroundings', 55), ('Umalas', 35), ('Kerobokan', 31), ('Candidasa', 20), ('Pemuteran', 20), ('Tabanan', 19), ('Jimbaran', 19)]\n",
      "\n",
      "\n",
      "\n",
      "STATISTICS FOR FEATURE :  IMAGE_VILLA-SRC\n",
      "\n",
      "Description for Feature : \n",
      "\n",
      "count                                                   827\n",
      "unique                                                  827\n",
      "top       https://cdn.villa-bali.com/cache/1024/villas/s...\n",
      "freq                                                      1\n",
      "Name: image_villa-src, dtype: object\n",
      "\n",
      "Count/Frequency for Feature : \n",
      "\n",
      "[('https://cdn.villa-bali.com/cache/1024/villas/sungai-jungle-villa-I/sungai-jungle-villa-I-15-sungai-pool-and-dining-pavilion-dressed-for-a-special-dinner-5d5b81628ce8c.jpg', 1), ('https://cdn.villa-bali.com/cache/1024/villas/morabito-art-cliff/morabito-art-cliff-1-morabito-art-cliff-drone1-5c04cb81d0cff.jpg', 1), ('https://cdn.villa-bali.com/cache/1024/villas/villa-vinila-penthouse/villa-vinila-penthouse-6-1-5ecc97d75c9e9.JPG', 1), ('https://cdn.villa-bali.com/cache/1024/villas/villa-sally/villa-sally-pool-view-5a03e36520c04.JPG', 1), ('https://cdn.villa-bali.com/cache/1024/villas/villa-ibiza/villa-ibiza-46-villa-ibiza-pool-daylight-c-5b5931ef5b340.jpg', 1), ('https://cdn.villa-bali.com/cache/1024/villas/villa-jeruk-satu/o/villa-jeruk-satu-70e9f64e.jpg', 1), ('https://cdn.villa-bali.com/cache/1024/villas/villa-bendega-rato/villa-bendega-rato-25-bendega-rato-bedroom-view-from-pool-at-dusk-5775c8cdc493b.jpg', 1), ('https://cdn.villa-bali.com/cache/1024/villas/villa-anam/villa-anam-1-21-5c45286181491.jpg', 1), ('https://cdn.villa-bali.com/cache/1024/villas/villa-zensa/o/villa-zensa-82763fc4.jpg', 1), ('https://cdn.villa-bali.com/cache/1024/villas/villa-delmar/villa-delmar-pic1-58133736931a6.jpg', 1)]\n",
      "\n",
      "\n",
      "\n",
      "STATISTICS FOR FEATURE :  LOCATION_DESKRIPSI\n",
      "\n",
      "Description for Feature : \n",
      "\n",
      "count      827\n",
      "unique     823\n",
      "top       null\n",
      "freq         3\n",
      "Name: location_deskripsi, dtype: object\n",
      "\n",
      "Count/Frequency for Feature : \n",
      "\n",
      "[('null', 3), (\"This traditional getaway is located in the heart of chic and trendy Seminyak. The location could not be any better for exploring this lively town on foot. A short walk leads you straight to Seminyak's stretch of sunset beach where you can swim, surf and sip sunset drinks at charming beach bars and happening beach clubs such as KU DE TA or Potato Head. On Oberoi Road, better known as the one and only Eat Street, you can dine at excellent restaurants such as the oceanfront La Lucciola or Ultimo. The best coffee in town is found at Revolver Café.\", 2), (\"Being in a traditional Balinese village, you will get to see the island's untouched nature and authentic life with ceremonies at the sacred temples. For a day of fun you can go rafting on the Ayung river or drive into Ubud where you can visit the Monkey Forest, practice yoga and have lunch at one of the health cafés with raw food and fresh juices. For an excellent dinner go to “La Rouge”, an elegant, beautifully designed sushi restaurant with live jazz music every night and outstanding service.\", 2), ('Despite the uniqueness of being tucked away in a traditional village, Sungai Jungle Villa I is made convenient by the private chauffeured cars available for you. The hotspot Canggu is just a 20-minute drive away. Seminyak and Ubud are just 30-40 minutes away. In these main tourist hubs, you can opt for sightseeing, water sports, boutique shopping and restaurant dining. It is best to consult the villa manager for his suggestions and logistics advice.', 1), ('Morabito Art Cliff is located in the hills of Bukit Peninsula in the south of Bali. The estate sits right above Binging Beach, 30 minutes from Bali’s International Airport. Located inside a limestone cliff, it takes 80-100 steps to get to the villa and then another 80 to get to Binging Beach, a beautiful white sand beach where you can swim and surf. You can drive to New Kuta Golf and Dreamland Beach in approximately  10 minutes. Other neaby tourist attractions include The Uluwatu Temple, GWK National Park and Jimbaran Bay.', 1), ('The villa is located in Nusa Dua - a chic beach destination in the far south of Bali just 30 minutes driving away from the international airport. The nearest beach is just a 5-minute walk away from the villa. It’s the gorgeous Geger Beach where you can relax on sunbeds, do watersports, order fresh juices and eat nasi goreng. There are plenty more beaches to explore in the area, making it ideal for surfers, sun and beach lovers. The famous Jimbaran ‘seafood’ Bay is just a short drive away and we highly recommend exploring more of Uluwatu such as the many beaches and the Uluwatu Temple.', 1), ('Located in the Berawa area of rural Canggu, guests are close to the beach with happening beach clubs, near to the renowned Canggu Club and also in walking distance from lots of charming little café’s and restaurants. The center of Seminyak is 6 km away.', 1), ('Tucked away in a small lane, somewhere in between the Bintang Supermarket and Double Six Beach, you would almost forget you are finding yourself in the centre of Seminyak. Go learn to surf, gaze at the magnificent island sunset while having cocktails at La Plancha., try out some authentic local food at Warung Murah on the way to the beach, have a massage, go shop for souvenirs and take your pick between excellent restaurants around town. You can easily get around on foot! The international airport of Bali is just 30 minutes away by car.', 1), (\"Villa Jeruk is located in the quiet and peaceful area of Umalas which is surrounded by beautiful unspoiled rice fields and close to the happening and trendy center of Seminyak with an abundance of shops, restaurants and café's. The Canggu Club, featuring a waterpark, Tennis court and more, is just a 5 minute drive away and Bali's beautiful white sand beaches where you can swim, surf and lounge at a beachbar or a fancy beachclub are also nearby.\", 1), ('What you can see from the villa includes the famous Echo beach, a mere 10-minute drive from the property. This is a famous surf spot with surf breaks great for pro-surfers. There are beachside restaurants like The Beach House offering sizzling seafood and Old Man’s for its live music and ambiance! Head to Seminyak for a night out at its raucous beach clubs like Ku De Ta for a memorable time.', 1)]\n",
      "\n",
      "\n",
      "\n",
      "STATISTICS FOR FEATURE :  BEDROOMS_DESKRIPSI\n",
      "\n",
      "Description for Feature : \n",
      "\n",
      "count      827\n",
      "unique     801\n",
      "top       null\n",
      "freq        18\n",
      "Name: bedrooms_deskripsi, dtype: object\n",
      "\n",
      "Count/Frequency for Feature : \n",
      "\n",
      "[('null', 18), ('First floor', 5), ('Honeymoon decoration and only for honeymooner.', 2), ('Second Floor', 2), ('Overall, the villa has six spacious bedrooms.  The master bedroom is in the main villa.  This bedroom opens out to a terrace with breathtaking views of the landscape and of the ocean.  The master bedroom has a king-sized bed, a dressing room, a dedicated bathroom and an outdoor shower.  There are three more bedrooms in the main villa and they have king-sized beds as well.  Two other bedrooms are in the separate guest house.  Both have king-sized beds and dedicated bathrooms.  Each bedroom also opens out to a terrace with panoramic views of the seascape.  Each also has direct access to its very own swimming pool.', 2), ('2 bunk beds', 2), ('Sharing bathroom', 2), ('Sungai Jungle Villa I is home for 3 finely appointed air-conditioned bedrooms, all equipped with lavish canopied king-sized beds. Furnished minimally with  exquisite wooden furniture this sanctuary exudes exude gracefulness and tranquility. All bedrooms have a private en-suite bathroom and full glass panels for a mesmerizing view of the 18m pool and lush greenery beyond their bedrooms.', 1), ('Santorini: Massalia', 1), ('The penthouse has 4 bedrooms and all of them are equipped with air-conditioning. The bedrooms are fitted with large double beds, wardrobes and each room has a lavish en-suite marble bathroom with big bathtubs and resort-quality toiletries. The upstairs room is adjoined to a balcony and the downstairs room boast direct access to the villa’s private swimming pool.', 1)]\n"
     ]
    }
   ],
   "source": [
    "ExploratoryDataAnalysis(data_set)\n"
   ]
  },
  {
   "cell_type": "code",
   "execution_count": 23,
   "metadata": {},
   "outputs": [
    {
     "name": "stdout",
     "output_type": "stream",
     "text": [
      "\n",
      "\n",
      "No. of data points after eliminating nama_villa=NULL :\n",
      " 827\n",
      "\n",
      "\n",
      "No. of data points after eliminating jumlah_bedroom=NULL :\n",
      " 827\n",
      "\n",
      "The duplicated items are :  4 \n",
      "\n",
      "\n"
     ]
    },
    {
     "ename": "KeyError",
     "evalue": "'web-scraper-order'",
     "output_type": "error",
     "traceback": [
      "\u001b[0;31m---------------------------------------------------------------------------\u001b[0m",
      "\u001b[0;31mKeyError\u001b[0m                                  Traceback (most recent call last)",
      "\u001b[0;32m/srv/conda/envs/notebook/lib/python3.7/site-packages/pandas/core/indexes/base.py\u001b[0m in \u001b[0;36mget_loc\u001b[0;34m(self, key, method, tolerance)\u001b[0m\n\u001b[1;32m   3360\u001b[0m             \u001b[0;32mtry\u001b[0m\u001b[0;34m:\u001b[0m\u001b[0;34m\u001b[0m\u001b[0;34m\u001b[0m\u001b[0m\n\u001b[0;32m-> 3361\u001b[0;31m                 \u001b[0;32mreturn\u001b[0m \u001b[0mself\u001b[0m\u001b[0;34m.\u001b[0m\u001b[0m_engine\u001b[0m\u001b[0;34m.\u001b[0m\u001b[0mget_loc\u001b[0m\u001b[0;34m(\u001b[0m\u001b[0mcasted_key\u001b[0m\u001b[0;34m)\u001b[0m\u001b[0;34m\u001b[0m\u001b[0;34m\u001b[0m\u001b[0m\n\u001b[0m\u001b[1;32m   3362\u001b[0m             \u001b[0;32mexcept\u001b[0m \u001b[0mKeyError\u001b[0m \u001b[0;32mas\u001b[0m \u001b[0merr\u001b[0m\u001b[0;34m:\u001b[0m\u001b[0;34m\u001b[0m\u001b[0;34m\u001b[0m\u001b[0m\n",
      "\u001b[0;32m/srv/conda/envs/notebook/lib/python3.7/site-packages/pandas/_libs/index.pyx\u001b[0m in \u001b[0;36mpandas._libs.index.IndexEngine.get_loc\u001b[0;34m()\u001b[0m\n",
      "\u001b[0;32m/srv/conda/envs/notebook/lib/python3.7/site-packages/pandas/_libs/index.pyx\u001b[0m in \u001b[0;36mpandas._libs.index.IndexEngine.get_loc\u001b[0;34m()\u001b[0m\n",
      "\u001b[0;32mpandas/_libs/hashtable_class_helper.pxi\u001b[0m in \u001b[0;36mpandas._libs.hashtable.PyObjectHashTable.get_item\u001b[0;34m()\u001b[0m\n",
      "\u001b[0;32mpandas/_libs/hashtable_class_helper.pxi\u001b[0m in \u001b[0;36mpandas._libs.hashtable.PyObjectHashTable.get_item\u001b[0;34m()\u001b[0m\n",
      "\u001b[0;31mKeyError\u001b[0m: 'web-scraper-order'",
      "\nThe above exception was the direct cause of the following exception:\n",
      "\u001b[0;31mKeyError\u001b[0m                                  Traceback (most recent call last)",
      "\u001b[0;32m<ipython-input-23-903b89949b25>\u001b[0m in \u001b[0;36m<module>\u001b[0;34m\u001b[0m\n\u001b[0;32m----> 1\u001b[0;31m \u001b[0mdata_set\u001b[0m\u001b[0;34m=\u001b[0m\u001b[0mData_Preprocessing\u001b[0m\u001b[0;34m(\u001b[0m\u001b[0mdata_set\u001b[0m\u001b[0;34m)\u001b[0m\u001b[0;34m\u001b[0m\u001b[0;34m\u001b[0m\u001b[0m\n\u001b[0m\u001b[1;32m      2\u001b[0m \u001b[0;31m#data_set=pd.read_pickle('Pickles/Preprocessed_Data_version2')\u001b[0m\u001b[0;34m\u001b[0m\u001b[0;34m\u001b[0m\u001b[0;34m\u001b[0m\u001b[0m\n\u001b[1;32m      3\u001b[0m \u001b[0mdata_set\u001b[0m\u001b[0;34m\u001b[0m\u001b[0;34m\u001b[0m\u001b[0m\n\u001b[1;32m      4\u001b[0m \u001b[0;34m\u001b[0m\u001b[0m\n\u001b[1;32m      5\u001b[0m \u001b[0;34m\u001b[0m\u001b[0m\n",
      "\u001b[0;32m~/DataPreprocessing.py\u001b[0m in \u001b[0;36mData_Preprocessing\u001b[0;34m(data_set)\u001b[0m\n\u001b[1;32m      8\u001b[0m     \u001b[0mdata_set\u001b[0m\u001b[0;34m=\u001b[0m\u001b[0mRemoveNullValues\u001b[0m\u001b[0;34m(\u001b[0m\u001b[0mdata_set\u001b[0m\u001b[0;34m)\u001b[0m\u001b[0;34m\u001b[0m\u001b[0;34m\u001b[0m\u001b[0m\n\u001b[1;32m      9\u001b[0m     \u001b[0;31m# Recommendtaion based on different size or color not a good recommendation\u001b[0m\u001b[0;34m\u001b[0m\u001b[0;34m\u001b[0m\u001b[0;34m\u001b[0m\u001b[0m\n\u001b[0;32m---> 10\u001b[0;31m     \u001b[0mdata_set\u001b[0m\u001b[0;34m=\u001b[0m\u001b[0mRemoveDuplicateItemsAfterSorting\u001b[0m\u001b[0;34m(\u001b[0m\u001b[0mdata_set\u001b[0m\u001b[0;34m)\u001b[0m\u001b[0;34m\u001b[0m\u001b[0;34m\u001b[0m\u001b[0m\n\u001b[0m\u001b[1;32m     11\u001b[0m     \u001b[0mprint\u001b[0m\u001b[0;34m(\u001b[0m\u001b[0mdata_set\u001b[0m\u001b[0;34m.\u001b[0m\u001b[0mshape\u001b[0m\u001b[0;34m[\u001b[0m\u001b[0;36m0\u001b[0m\u001b[0;34m]\u001b[0m\u001b[0;34m)\u001b[0m\u001b[0;34m\u001b[0m\u001b[0;34m\u001b[0m\u001b[0m\n\u001b[1;32m     12\u001b[0m     \u001b[0mdata_set\u001b[0m\u001b[0;34m.\u001b[0m\u001b[0mto_pickle\u001b[0m\u001b[0;34m(\u001b[0m\u001b[0;34m'Pickles/Preprocessed_Data_version1'\u001b[0m\u001b[0;34m)\u001b[0m\u001b[0;34m\u001b[0m\u001b[0;34m\u001b[0m\u001b[0m\n",
      "\u001b[0;32m~/DataPreprocessing.py\u001b[0m in \u001b[0;36mRemoveDuplicateItemsAfterSorting\u001b[0;34m(data_set)\u001b[0m\n\u001b[1;32m     53\u001b[0m             \u001b[0;32mif\u001b[0m\u001b[0;34m(\u001b[0m\u001b[0mmax_len\u001b[0m\u001b[0;34m-\u001b[0m\u001b[0mcount\u001b[0m\u001b[0;34m>\u001b[0m\u001b[0;36m2\u001b[0m\u001b[0;34m)\u001b[0m\u001b[0;34m:\u001b[0m\u001b[0;34m\u001b[0m\u001b[0;34m\u001b[0m\u001b[0m\n\u001b[1;32m     54\u001b[0m                 \u001b[0;31m#word difference>2 both different items -- hence include\u001b[0m\u001b[0;34m\u001b[0m\u001b[0;34m\u001b[0m\u001b[0;34m\u001b[0m\u001b[0m\n\u001b[0;32m---> 55\u001b[0;31m                 \u001b[0mnew_data_list\u001b[0m\u001b[0;34m.\u001b[0m\u001b[0mappend\u001b[0m\u001b[0;34m(\u001b[0m\u001b[0mdata_set\u001b[0m\u001b[0;34m[\u001b[0m\u001b[0;34m'nama_villa'\u001b[0m\u001b[0;34m]\u001b[0m\u001b[0;34m.\u001b[0m\u001b[0mloc\u001b[0m\u001b[0;34m[\u001b[0m\u001b[0mrow_wise_str_index\u001b[0m\u001b[0;34m[\u001b[0m\u001b[0mj\u001b[0m\u001b[0;34m]\u001b[0m\u001b[0;34m]\u001b[0m\u001b[0;34m)\u001b[0m\u001b[0;34m\u001b[0m\u001b[0;34m\u001b[0m\u001b[0m\n\u001b[0m\u001b[1;32m     56\u001b[0m                 \u001b[0;32mif\u001b[0m\u001b[0;34m(\u001b[0m\u001b[0mmax_len\u001b[0m\u001b[0;34m-\u001b[0m\u001b[0;36m1\u001b[0m\u001b[0;34m==\u001b[0m\u001b[0mj\u001b[0m\u001b[0;34m)\u001b[0m\u001b[0;34m:\u001b[0m\u001b[0;34m\u001b[0m\u001b[0;34m\u001b[0m\u001b[0m\n\u001b[1;32m     57\u001b[0m                     \u001b[0;31m#word difference>2 but in len_data_points and len_data_points-1\u001b[0m\u001b[0;34m\u001b[0m\u001b[0;34m\u001b[0m\u001b[0;34m\u001b[0m\u001b[0m\n",
      "\u001b[0;32m/srv/conda/envs/notebook/lib/python3.7/site-packages/pandas/core/frame.py\u001b[0m in \u001b[0;36m__getitem__\u001b[0;34m(self, key)\u001b[0m\n\u001b[1;32m   3453\u001b[0m             \u001b[0;32mif\u001b[0m \u001b[0mself\u001b[0m\u001b[0;34m.\u001b[0m\u001b[0mcolumns\u001b[0m\u001b[0;34m.\u001b[0m\u001b[0mnlevels\u001b[0m \u001b[0;34m>\u001b[0m \u001b[0;36m1\u001b[0m\u001b[0;34m:\u001b[0m\u001b[0;34m\u001b[0m\u001b[0;34m\u001b[0m\u001b[0m\n\u001b[1;32m   3454\u001b[0m                 \u001b[0;32mreturn\u001b[0m \u001b[0mself\u001b[0m\u001b[0;34m.\u001b[0m\u001b[0m_getitem_multilevel\u001b[0m\u001b[0;34m(\u001b[0m\u001b[0mkey\u001b[0m\u001b[0;34m)\u001b[0m\u001b[0;34m\u001b[0m\u001b[0;34m\u001b[0m\u001b[0m\n\u001b[0;32m-> 3455\u001b[0;31m             \u001b[0mindexer\u001b[0m \u001b[0;34m=\u001b[0m \u001b[0mself\u001b[0m\u001b[0;34m.\u001b[0m\u001b[0mcolumns\u001b[0m\u001b[0;34m.\u001b[0m\u001b[0mget_loc\u001b[0m\u001b[0;34m(\u001b[0m\u001b[0mkey\u001b[0m\u001b[0;34m)\u001b[0m\u001b[0;34m\u001b[0m\u001b[0;34m\u001b[0m\u001b[0m\n\u001b[0m\u001b[1;32m   3456\u001b[0m             \u001b[0;32mif\u001b[0m \u001b[0mis_integer\u001b[0m\u001b[0;34m(\u001b[0m\u001b[0mindexer\u001b[0m\u001b[0;34m)\u001b[0m\u001b[0;34m:\u001b[0m\u001b[0;34m\u001b[0m\u001b[0;34m\u001b[0m\u001b[0m\n\u001b[1;32m   3457\u001b[0m                 \u001b[0mindexer\u001b[0m \u001b[0;34m=\u001b[0m \u001b[0;34m[\u001b[0m\u001b[0mindexer\u001b[0m\u001b[0;34m]\u001b[0m\u001b[0;34m\u001b[0m\u001b[0;34m\u001b[0m\u001b[0m\n",
      "\u001b[0;32m/srv/conda/envs/notebook/lib/python3.7/site-packages/pandas/core/indexes/base.py\u001b[0m in \u001b[0;36mget_loc\u001b[0;34m(self, key, method, tolerance)\u001b[0m\n\u001b[1;32m   3361\u001b[0m                 \u001b[0;32mreturn\u001b[0m \u001b[0mself\u001b[0m\u001b[0;34m.\u001b[0m\u001b[0m_engine\u001b[0m\u001b[0;34m.\u001b[0m\u001b[0mget_loc\u001b[0m\u001b[0;34m(\u001b[0m\u001b[0mcasted_key\u001b[0m\u001b[0;34m)\u001b[0m\u001b[0;34m\u001b[0m\u001b[0;34m\u001b[0m\u001b[0m\n\u001b[1;32m   3362\u001b[0m             \u001b[0;32mexcept\u001b[0m \u001b[0mKeyError\u001b[0m \u001b[0;32mas\u001b[0m \u001b[0merr\u001b[0m\u001b[0;34m:\u001b[0m\u001b[0;34m\u001b[0m\u001b[0;34m\u001b[0m\u001b[0m\n\u001b[0;32m-> 3363\u001b[0;31m                 \u001b[0;32mraise\u001b[0m \u001b[0mKeyError\u001b[0m\u001b[0;34m(\u001b[0m\u001b[0mkey\u001b[0m\u001b[0;34m)\u001b[0m \u001b[0;32mfrom\u001b[0m \u001b[0merr\u001b[0m\u001b[0;34m\u001b[0m\u001b[0;34m\u001b[0m\u001b[0m\n\u001b[0m\u001b[1;32m   3364\u001b[0m \u001b[0;34m\u001b[0m\u001b[0m\n\u001b[1;32m   3365\u001b[0m         \u001b[0;32mif\u001b[0m \u001b[0mis_scalar\u001b[0m\u001b[0;34m(\u001b[0m\u001b[0mkey\u001b[0m\u001b[0;34m)\u001b[0m \u001b[0;32mand\u001b[0m \u001b[0misna\u001b[0m\u001b[0;34m(\u001b[0m\u001b[0mkey\u001b[0m\u001b[0;34m)\u001b[0m \u001b[0;32mand\u001b[0m \u001b[0;32mnot\u001b[0m \u001b[0mself\u001b[0m\u001b[0;34m.\u001b[0m\u001b[0mhasnans\u001b[0m\u001b[0;34m:\u001b[0m\u001b[0;34m\u001b[0m\u001b[0;34m\u001b[0m\u001b[0m\n",
      "\u001b[0;31mKeyError\u001b[0m: 'web-scraper-order'"
     ]
    }
   ],
   "source": [
    "data_set=Data_Preprocessing(data_set)\n",
    "#data_set=pd.read_pickle('Pickles/Preprocessed_Data_version2')\n",
    "data_set\n",
    "\n",
    "def Data_Preprocessing(data_set):\n",
    "    # descending order of  of Null values in prices>color>brand\n",
    "    data_set=RemoveNullValues(data_set)\n",
    "    # Recommendtaion based on different size or color not a good recommendation\n",
    "    data_set=RemoveDuplicateItemsAfterSorting(data_set)\n",
    "    print(data_set.shape[0])\n",
    "    data_set.to_pickle('Pickles/Preprocessed_Data_version1')\n",
    "    data_set=RemoveDuplicateItemsNonAdjacent(data_set)\n",
    "    data_set.to_pickle('Pickles/Preprocessed_Data_version2')\n",
    "    return data_set\n",
    "\n",
    " \n",
    "def RemoveNullValues(data_set):\n",
    "    hav_null=['nama_villa','jumlah_bedroom']\n",
    "    for features in hav_null:\n",
    "        data_set=data_set.loc[-data_set[features].isnull()]\n",
    "        print(\"\\n\\nNo. of data points after eliminating {}=NULL :\\n\".format(features),data_set.shape[0])\n",
    "    return data_set\n",
    "\n",
    "#Near Duplicate items remain\n",
    "#remove data differing only at end(that is size difference or colour difference are not good recommendations)\n",
    "def RemoveDuplicateItemsAfterSorting(data_set):\n",
    "    print(\"\\nThe duplicated items are : \",sum(data_set.duplicated('nama_villa')),\"\\n\\n\")\n",
    "    #sort on the basis of the title(alphabetical order)\n",
    "    data_set.sort_values('nama_villa',inplace=True,ascending=False)\n",
    "    #print(data_set['title'].head(20))\n",
    "    \n",
    "    row_wise_str_index=[]\n",
    "    for row_index,row in data_set.iterrows():\n",
    "        row_wise_str_index.append(row_index)\n",
    "    new_data_list=[]\n",
    "    i=0\n",
    "    j=0\n",
    "    len_data_points = data_set.shape[0]\n",
    "    while i<len_data_points and j<len_data_points:\n",
    "        temp_i=i\n",
    "        #wordlist for ith string\n",
    "        i_str = data_set['nama_villa'].loc[row_wise_str_index[i]].split()\n",
    "        j=i+1\n",
    "        while j<len_data_points:\n",
    "            j_str = data_set['nama_villa'].loc[row_wise_str_index[j]].split()\n",
    "            max_len=max(len(i_str),len(j_str))\n",
    "            count=0 #no. of words matching in both strings\n",
    "            #itertools.zip_longest(i_str,j_str) return correspoinding words in format [('a1','b1'),('a2','b2'),(None,'b3')]\n",
    "            for words in itertools.zip_longest(i_str,j_str):\n",
    "                if words[0] == words[1]:\n",
    "                    count+=1\n",
    "            if(max_len-count>2):\n",
    "                #word difference>2 both different items -- hence include\n",
    "                new_data_list.append(data_set['nama_villa'].loc[row_wise_str_index[j]])\n",
    "                if(max_len-1==j):\n",
    "                    #word difference>2 but in len_data_points and len_data_points-1\n",
    "                    new_data_list.append(data_set['nama_villa'].loc[row_wise_str_index[j]])\n",
    "                i=j\n",
    "                break\n",
    "            else:\n",
    "                j+=1\n",
    "        if temp_i == i:\n",
    "            break   \n",
    "    data_set=data_set.loc[data_set['nama_villa'].isin(new_data_list)]\n",
    "    return data_set\n",
    "\n",
    "def RemoveDuplicateItemsNonAdjacent(data_set): # Time complexity = O(n^2) \n",
    "    row_wise_str_index=[]\n",
    "    for row_index,row in data_set.iterrows():\n",
    "        row_wise_str_index.append(row_index)\n",
    "    new_data_list=[]\n",
    "    while(len(row_wise_str_index)!=0):\n",
    "        #remove the last element in the row_wise_str_index and return the index of the last element\n",
    "        i = row_wise_str_index.pop()\n",
    "        new_data_list.append(data_set['nama_villa'].loc[i])\n",
    "        i_str=data_set['nama_villa'].loc[i].split()\n",
    "        for j in row_wise_str_index:\n",
    "            j_str = data_set['nama_villa'].loc[j].split()\n",
    "            max_len = max(len(i_str),len(j_str))\n",
    "            count = 0 #count of mathing words in the two strings\n",
    "            for words in itertools.zip_longest(i_str,j_str):\n",
    "                if words[0] == words[1]:\n",
    "                    count+=1\n",
    "            # word difference > 3 the words are considered different \n",
    "            if (max_len-count) < 3:\n",
    "                row_wise_str_index.remove(j)\n",
    "    data_set=data_set.loc[data_set['nama_villa'].isin(new_data_list)]\n",
    "    return data_set\n"
   ]
  },
  {
   "cell_type": "code",
   "execution_count": null,
   "metadata": {},
   "outputs": [],
   "source": [
    "#data_set=TextPreprocessing(data_set)\n",
    "data_set=pd.read_pickle('Pickles/Preprocessed_Data_version3')\n",
    "data_set"
   ]
  },
  {
   "cell_type": "code",
   "execution_count": null,
   "metadata": {},
   "outputs": [],
   "source": [
    "BagOfWordsModel(data_set)"
   ]
  },
  {
   "cell_type": "code",
   "execution_count": null,
   "metadata": {},
   "outputs": [],
   "source": [
    "TFIDFModel(data_set)"
   ]
  },
  {
   "cell_type": "code",
   "execution_count": null,
   "metadata": {},
   "outputs": [],
   "source": []
  },
  {
   "cell_type": "code",
   "execution_count": null,
   "metadata": {},
   "outputs": [],
   "source": []
  }
 ],
 "metadata": {
  "kernelspec": {
   "display_name": "Python 3",
   "language": "python",
   "name": "python3"
  },
  "language_info": {
   "codemirror_mode": {
    "name": "ipython",
    "version": 3
   },
   "file_extension": ".py",
   "mimetype": "text/x-python",
   "name": "python",
   "nbconvert_exporter": "python",
   "pygments_lexer": "ipython3",
   "version": "3.7.10"
  }
 },
 "nbformat": 4,
 "nbformat_minor": 2
}
